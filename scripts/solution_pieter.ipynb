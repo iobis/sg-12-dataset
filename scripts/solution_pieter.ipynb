{
 "cells": [
  {
   "cell_type": "markdown",
   "id": "b6fe8b5b-21f1-4bb2-9ff0-8d31fa515388",
   "metadata": {},
   "source": [
    "# Processing an eDNA dataset to Darwin Core"
   ]
  },
  {
   "cell_type": "markdown",
   "id": "481466aa-25df-4f1a-a01d-244cb67de63e",
   "metadata": {},
   "source": [
    "<div class=\"alert alert-warning\">\n",
    "If you are new yo R, make sure to read these info boxes.\n",
    "</div>"
   ]
  },
  {
   "cell_type": "markdown",
   "id": "7638b2b5-bcf4-4de2-9a01-2c64d7356baf",
   "metadata": {},
   "source": [
    "First load some dependencies and create the output directory:"
   ]
  },
  {
   "cell_type": "code",
   "execution_count": 1,
   "id": "99d8b55e-b289-4521-b997-48eba7a6067a",
   "metadata": {
    "vscode": {
     "languageId": "r"
    }
   },
   "outputs": [
    {
     "name": "stderr",
     "output_type": "stream",
     "text": [
      "\n",
      "Attaching package: ‘dplyr’\n",
      "\n",
      "\n",
      "The following objects are masked from ‘package:stats’:\n",
      "\n",
      "    filter, lag\n",
      "\n",
      "\n",
      "The following objects are masked from ‘package:base’:\n",
      "\n",
      "    intersect, setdiff, setequal, union\n",
      "\n",
      "\n"
     ]
    }
   ],
   "source": [
    "library(dplyr)\n",
    "library(readxl)\n",
    "\n",
    "# make sure to change the output directory to your own\n",
    "output_dir <- \"../dwc/pieter\"\n",
    "dir.create(output_dir)\n",
    "\n",
    "# limit number of rows in notebook output\n",
    "options(repr.matrix.max.rows = 10, repr.matrix.max.cols = 20)"
   ]
  },
  {
   "cell_type": "markdown",
   "id": "3fb2530f-5d82-4242-8058-83d9cdc7d31f",
   "metadata": {},
   "source": [
    "<div class=\"alert alert-warning\">\n",
    "In R, packages can be loaded using <code>library()</code>. If a package is not installed, you can install it from CRAN using <code>install.packages()</code>. The <code>dplyr</code> package is a commonly used package for data manipulation, <code>readxl</code> is required for reading the Excel file.\n",
    "</div>"
   ]
  },
  {
   "cell_type": "markdown",
   "id": "99b8c46e-e656-4303-9a74-9ec305e93af3",
   "metadata": {},
   "source": [
    "## Reading the original dataset\n",
    "### List all dataset files"
   ]
  },
  {
   "cell_type": "code",
   "execution_count": 2,
   "id": "de407417-e478-4003-aaaf-972f02a1c993",
   "metadata": {
    "vscode": {
     "languageId": "r"
    }
   },
   "outputs": [
    {
     "data": {
      "text/html": [
       "<style>\n",
       ".list-inline {list-style: none; margin:0; padding: 0}\n",
       ".list-inline>li {display: inline-block}\n",
       ".list-inline>li:not(:last-child)::after {content: \"\\00b7\"; padding: 0 .5ex}\n",
       "</style>\n",
       "<ol class=list-inline><li>'../dataset/metadata.txt'</li><li>'../dataset/samples.xlsx'</li><li>'../dataset/seqtab.txt'</li><li>'../dataset/sequences.fasta'</li><li>'../dataset/taxonomy.txt'</li></ol>\n"
      ],
      "text/latex": [
       "\\begin{enumerate*}\n",
       "\\item '../dataset/metadata.txt'\n",
       "\\item '../dataset/samples.xlsx'\n",
       "\\item '../dataset/seqtab.txt'\n",
       "\\item '../dataset/sequences.fasta'\n",
       "\\item '../dataset/taxonomy.txt'\n",
       "\\end{enumerate*}\n"
      ],
      "text/markdown": [
       "1. '../dataset/metadata.txt'\n",
       "2. '../dataset/samples.xlsx'\n",
       "3. '../dataset/seqtab.txt'\n",
       "4. '../dataset/sequences.fasta'\n",
       "5. '../dataset/taxonomy.txt'\n",
       "\n",
       "\n"
      ],
      "text/plain": [
       "[1] \"../dataset/metadata.txt\"    \"../dataset/samples.xlsx\"   \n",
       "[3] \"../dataset/seqtab.txt\"      \"../dataset/sequences.fasta\"\n",
       "[5] \"../dataset/taxonomy.txt\"   "
      ]
     },
     "metadata": {},
     "output_type": "display_data"
    }
   ],
   "source": [
    "list.files(\"../dataset\", full.names = \"TRUE\")"
   ]
  },
  {
   "cell_type": "markdown",
   "id": "2fa3828c-9224-4336-90ab-7ea13ed6cb2e",
   "metadata": {},
   "source": [
    "<div class=\"alert alert-warning\">\n",
    "In a relative file path, <code>..</code> indicates the parent directory.\n",
    "</div>"
   ]
  },
  {
   "cell_type": "markdown",
   "id": "fce83607-62f5-4d5f-a751-9a52eab894e3",
   "metadata": {},
   "source": [
    "### Read the ASV table\n",
    "\n",
    "`../dataset/seqtab.txt` contains the ASV table, so it has one row per ASV, and the number of reads in a sample in different columns."
   ]
  },
  {
   "cell_type": "code",
   "execution_count": 3,
   "id": "8792c874-40b0-42d0-95bd-18be2fa0c3b4",
   "metadata": {
    "vscode": {
     "languageId": "r"
    }
   },
   "outputs": [
    {
     "data": {
      "text/html": [
       "<table class=\"dataframe\">\n",
       "<caption>A data.frame: 16985 × 3</caption>\n",
       "<thead>\n",
       "\t<tr><th scope=col>asv</th><th scope=col>EE0493</th><th scope=col>EE0495</th></tr>\n",
       "\t<tr><th scope=col>&lt;chr&gt;</th><th scope=col>&lt;int&gt;</th><th scope=col>&lt;int&gt;</th></tr>\n",
       "</thead>\n",
       "<tbody>\n",
       "\t<tr><td>asv.1</td><td>    0</td><td>   0</td></tr>\n",
       "\t<tr><td>asv.2</td><td>   14</td><td>2447</td></tr>\n",
       "\t<tr><td>asv.3</td><td>    0</td><td>   0</td></tr>\n",
       "\t<tr><td>asv.4</td><td>    0</td><td>   0</td></tr>\n",
       "\t<tr><td>asv.5</td><td>40587</td><td>1857</td></tr>\n",
       "\t<tr><td>⋮</td><td>⋮</td><td>⋮</td></tr>\n",
       "\t<tr><td>asv.16981</td><td>0</td><td>0</td></tr>\n",
       "\t<tr><td>asv.16982</td><td>0</td><td>0</td></tr>\n",
       "\t<tr><td>asv.16983</td><td>0</td><td>0</td></tr>\n",
       "\t<tr><td>asv.16984</td><td>0</td><td>0</td></tr>\n",
       "\t<tr><td>asv.16985</td><td>0</td><td>0</td></tr>\n",
       "</tbody>\n",
       "</table>\n"
      ],
      "text/latex": [
       "A data.frame: 16985 × 3\n",
       "\\begin{tabular}{lll}\n",
       " asv & EE0493 & EE0495\\\\\n",
       " <chr> & <int> & <int>\\\\\n",
       "\\hline\n",
       "\t asv.1 &     0 &    0\\\\\n",
       "\t asv.2 &    14 & 2447\\\\\n",
       "\t asv.3 &     0 &    0\\\\\n",
       "\t asv.4 &     0 &    0\\\\\n",
       "\t asv.5 & 40587 & 1857\\\\\n",
       "\t ⋮ & ⋮ & ⋮\\\\\n",
       "\t asv.16981 & 0 & 0\\\\\n",
       "\t asv.16982 & 0 & 0\\\\\n",
       "\t asv.16983 & 0 & 0\\\\\n",
       "\t asv.16984 & 0 & 0\\\\\n",
       "\t asv.16985 & 0 & 0\\\\\n",
       "\\end{tabular}\n"
      ],
      "text/markdown": [
       "\n",
       "A data.frame: 16985 × 3\n",
       "\n",
       "| asv &lt;chr&gt; | EE0493 &lt;int&gt; | EE0495 &lt;int&gt; |\n",
       "|---|---|---|\n",
       "| asv.1 |     0 |    0 |\n",
       "| asv.2 |    14 | 2447 |\n",
       "| asv.3 |     0 |    0 |\n",
       "| asv.4 |     0 |    0 |\n",
       "| asv.5 | 40587 | 1857 |\n",
       "| ⋮ | ⋮ | ⋮ |\n",
       "| asv.16981 | 0 | 0 |\n",
       "| asv.16982 | 0 | 0 |\n",
       "| asv.16983 | 0 | 0 |\n",
       "| asv.16984 | 0 | 0 |\n",
       "| asv.16985 | 0 | 0 |\n",
       "\n"
      ],
      "text/plain": [
       "      asv       EE0493 EE0495\n",
       "1     asv.1         0     0  \n",
       "2     asv.2        14  2447  \n",
       "3     asv.3         0     0  \n",
       "4     asv.4         0     0  \n",
       "5     asv.5     40587  1857  \n",
       "⋮     ⋮         ⋮      ⋮     \n",
       "16981 asv.16981 0      0     \n",
       "16982 asv.16982 0      0     \n",
       "16983 asv.16983 0      0     \n",
       "16984 asv.16984 0      0     \n",
       "16985 asv.16985 0      0     "
      ]
     },
     "metadata": {},
     "output_type": "display_data"
    }
   ],
   "source": [
    "seqtab <- read.table(\"../dataset/seqtab.txt\", sep = \"\\t\", header = TRUE)\n",
    "seqtab"
   ]
  },
  {
   "cell_type": "markdown",
   "id": "859eeadf-c44f-47a8-9c45-b2fc54a78e32",
   "metadata": {},
   "source": [
    "<div class=\"alert alert-warning\">\n",
    "<code>read.table()</code> reads a delimited text file to a data frame. <code>sep = \"\\t\"</code> means that the file is tab delimited.\n",
    "</div>"
   ]
  },
  {
   "cell_type": "markdown",
   "id": "7eb6f801-bd0e-48b0-bcf9-8f91b4d1cfba",
   "metadata": {},
   "source": [
    "### Read the taxonomy file"
   ]
  },
  {
   "cell_type": "markdown",
   "id": "74d54e63-082d-4565-8324-953963480610",
   "metadata": {},
   "source": [
    "`../dataset/taxonomy.txt` contains a taxon name for each ASV."
   ]
  },
  {
   "cell_type": "code",
   "execution_count": 4,
   "id": "8e03544a-a131-4cf2-a7c4-052374e37b6b",
   "metadata": {
    "vscode": {
     "languageId": "r"
    }
   },
   "outputs": [
    {
     "data": {
      "text/html": [
       "<table class=\"dataframe\">\n",
       "<caption>A data.frame: 16985 × 2</caption>\n",
       "<thead>\n",
       "\t<tr><th scope=col>asv</th><th scope=col>taxonomy</th></tr>\n",
       "\t<tr><th scope=col>&lt;chr&gt;</th><th scope=col>&lt;chr&gt;</th></tr>\n",
       "</thead>\n",
       "<tbody>\n",
       "\t<tr><td>asv.1</td><td>Eukaryota             </td></tr>\n",
       "\t<tr><td>asv.2</td><td>Clausocalanus_furcatus</td></tr>\n",
       "\t<tr><td>asv.3</td><td>Eurotatoria           </td></tr>\n",
       "\t<tr><td>asv.4</td><td>Arthropoda            </td></tr>\n",
       "\t<tr><td>asv.5</td><td>Eukaryota             </td></tr>\n",
       "\t<tr><td>⋮</td><td>⋮</td></tr>\n",
       "\t<tr><td>asv.16981</td><td>Metazoa  </td></tr>\n",
       "\t<tr><td>asv.16982</td><td>Metazoa  </td></tr>\n",
       "\t<tr><td>asv.16983</td><td>Metazoa  </td></tr>\n",
       "\t<tr><td>asv.16984</td><td>Eukaryota</td></tr>\n",
       "\t<tr><td>asv.16985</td><td>Metazoa  </td></tr>\n",
       "</tbody>\n",
       "</table>\n"
      ],
      "text/latex": [
       "A data.frame: 16985 × 2\n",
       "\\begin{tabular}{ll}\n",
       " asv & taxonomy\\\\\n",
       " <chr> & <chr>\\\\\n",
       "\\hline\n",
       "\t asv.1 & Eukaryota             \\\\\n",
       "\t asv.2 & Clausocalanus\\_furcatus\\\\\n",
       "\t asv.3 & Eurotatoria           \\\\\n",
       "\t asv.4 & Arthropoda            \\\\\n",
       "\t asv.5 & Eukaryota             \\\\\n",
       "\t ⋮ & ⋮\\\\\n",
       "\t asv.16981 & Metazoa  \\\\\n",
       "\t asv.16982 & Metazoa  \\\\\n",
       "\t asv.16983 & Metazoa  \\\\\n",
       "\t asv.16984 & Eukaryota\\\\\n",
       "\t asv.16985 & Metazoa  \\\\\n",
       "\\end{tabular}\n"
      ],
      "text/markdown": [
       "\n",
       "A data.frame: 16985 × 2\n",
       "\n",
       "| asv &lt;chr&gt; | taxonomy &lt;chr&gt; |\n",
       "|---|---|\n",
       "| asv.1 | Eukaryota              |\n",
       "| asv.2 | Clausocalanus_furcatus |\n",
       "| asv.3 | Eurotatoria            |\n",
       "| asv.4 | Arthropoda             |\n",
       "| asv.5 | Eukaryota              |\n",
       "| ⋮ | ⋮ |\n",
       "| asv.16981 | Metazoa   |\n",
       "| asv.16982 | Metazoa   |\n",
       "| asv.16983 | Metazoa   |\n",
       "| asv.16984 | Eukaryota |\n",
       "| asv.16985 | Metazoa   |\n",
       "\n"
      ],
      "text/plain": [
       "      asv       taxonomy              \n",
       "1     asv.1     Eukaryota             \n",
       "2     asv.2     Clausocalanus_furcatus\n",
       "3     asv.3     Eurotatoria           \n",
       "4     asv.4     Arthropoda            \n",
       "5     asv.5     Eukaryota             \n",
       "⋮     ⋮         ⋮                     \n",
       "16981 asv.16981 Metazoa               \n",
       "16982 asv.16982 Metazoa               \n",
       "16983 asv.16983 Metazoa               \n",
       "16984 asv.16984 Eukaryota             \n",
       "16985 asv.16985 Metazoa               "
      ]
     },
     "metadata": {},
     "output_type": "display_data"
    }
   ],
   "source": [
    "taxonomy <- read.table(\"../dataset/taxonomy.txt\", sep = \"\\t\", header = TRUE)\n",
    "taxonomy"
   ]
  },
  {
   "cell_type": "markdown",
   "id": "9176270f-3c59-4506-b8e3-a0cdb0dca1e9",
   "metadata": {},
   "source": [
    "These names originate from the reference database and will have to be matched to WoRMS later."
   ]
  },
  {
   "cell_type": "markdown",
   "id": "1cce03aa-38eb-432c-b469-528bd98cf111",
   "metadata": {},
   "source": [
    "### Read the sample metadata\n",
    "\n",
    "We also have an Excel file with sample info."
   ]
  },
  {
   "cell_type": "code",
   "execution_count": 5,
   "id": "d8360180-9da8-4fae-a085-ca37d4a152db",
   "metadata": {
    "vscode": {
     "languageId": "r"
    }
   },
   "outputs": [
    {
     "data": {
      "text/html": [
       "<table class=\"dataframe\">\n",
       "<caption>A tibble: 2 × 11</caption>\n",
       "<thead>\n",
       "\t<tr><th scope=col>name</th><th scope=col>size</th><th scope=col>event_begin</th><th scope=col>area_name</th><th scope=col>area_longitude</th><th scope=col>area_latitude</th><th scope=col>area_uncertainty</th><th scope=col>parent_area_name</th><th scope=col>dna</th><th scope=col>depth</th><th scope=col>temperature</th></tr>\n",
       "\t<tr><th scope=col>&lt;chr&gt;</th><th scope=col>&lt;dbl&gt;</th><th scope=col>&lt;chr&gt;</th><th scope=col>&lt;chr&gt;</th><th scope=col>&lt;dbl&gt;</th><th scope=col>&lt;dbl&gt;</th><th scope=col>&lt;dbl&gt;</th><th scope=col>&lt;chr&gt;</th><th scope=col>&lt;dbl&gt;</th><th scope=col>&lt;dbl&gt;</th><th scope=col>&lt;dbl&gt;</th></tr>\n",
       "</thead>\n",
       "<tbody>\n",
       "\t<tr><td>EE0493</td><td>1450</td><td>24/04/2023</td><td>Ile esprit      </td><td>46.22536</td><td>9.425180</td><td>20</td><td>Aldabra Atoll</td><td> 7.23</td><td>10</td><td>26.3</td></tr>\n",
       "\t<tr><td>EE0495</td><td>1500</td><td>02/04/2023</td><td>Settlement beach</td><td>46.20605</td><td>9.400901</td><td>98</td><td>Aldabra Atoll</td><td>15.83</td><td>12</td><td>25.1</td></tr>\n",
       "</tbody>\n",
       "</table>\n"
      ],
      "text/latex": [
       "A tibble: 2 × 11\n",
       "\\begin{tabular}{lllllllllll}\n",
       " name & size & event\\_begin & area\\_name & area\\_longitude & area\\_latitude & area\\_uncertainty & parent\\_area\\_name & dna & depth & temperature\\\\\n",
       " <chr> & <dbl> & <chr> & <chr> & <dbl> & <dbl> & <dbl> & <chr> & <dbl> & <dbl> & <dbl>\\\\\n",
       "\\hline\n",
       "\t EE0493 & 1450 & 24/04/2023 & Ile esprit       & 46.22536 & 9.425180 & 20 & Aldabra Atoll &  7.23 & 10 & 26.3\\\\\n",
       "\t EE0495 & 1500 & 02/04/2023 & Settlement beach & 46.20605 & 9.400901 & 98 & Aldabra Atoll & 15.83 & 12 & 25.1\\\\\n",
       "\\end{tabular}\n"
      ],
      "text/markdown": [
       "\n",
       "A tibble: 2 × 11\n",
       "\n",
       "| name &lt;chr&gt; | size &lt;dbl&gt; | event_begin &lt;chr&gt; | area_name &lt;chr&gt; | area_longitude &lt;dbl&gt; | area_latitude &lt;dbl&gt; | area_uncertainty &lt;dbl&gt; | parent_area_name &lt;chr&gt; | dna &lt;dbl&gt; | depth &lt;dbl&gt; | temperature &lt;dbl&gt; |\n",
       "|---|---|---|---|---|---|---|---|---|---|---|\n",
       "| EE0493 | 1450 | 24/04/2023 | Ile esprit       | 46.22536 | 9.425180 | 20 | Aldabra Atoll |  7.23 | 10 | 26.3 |\n",
       "| EE0495 | 1500 | 02/04/2023 | Settlement beach | 46.20605 | 9.400901 | 98 | Aldabra Atoll | 15.83 | 12 | 25.1 |\n",
       "\n"
      ],
      "text/plain": [
       "  name   size event_begin area_name        area_longitude area_latitude\n",
       "1 EE0493 1450 24/04/2023  Ile esprit       46.22536       9.425180     \n",
       "2 EE0495 1500 02/04/2023  Settlement beach 46.20605       9.400901     \n",
       "  area_uncertainty parent_area_name dna   depth temperature\n",
       "1 20               Aldabra Atoll     7.23 10    26.3       \n",
       "2 98               Aldabra Atoll    15.83 12    25.1       "
      ]
     },
     "metadata": {},
     "output_type": "display_data"
    }
   ],
   "source": [
    "samples <- read_excel(\"../dataset/samples.xlsx\")\n",
    "samples"
   ]
  },
  {
   "cell_type": "markdown",
   "id": "61e0e0ca-34fa-4036-b88b-a5601c0fe2f5",
   "metadata": {},
   "source": [
    "## Joining the tables\n",
    "\n",
    "At this point we could start quality control on the individual tables, but if we first join and map the tables to Darwin Core occurrence terms, the quality control code will be easier to read.\n",
    "\n",
    "### Event fields\n",
    "\n",
    "Let's start with the sample table. This table has sample identifiers, time, coordinates, coordinate uncertainty, locality, and higher geography which can all be mapped to Darwin Core. Keep the `dna` field for later."
   ]
  },
  {
   "cell_type": "code",
   "execution_count": null,
   "id": "eb781051-e0ac-4e57-b5bd-d7dc67c062bb",
   "metadata": {
    "vscode": {
     "languageId": "r"
    }
   },
   "outputs": [],
   "source": [
    "event <- samples %>%\n",
    "    select(\n",
    "        eventID = name,\n",
    "        materialSampleID = name,\n",
    "        eventDate = event_begin,\n",
    "        locality = area_name,\n",
    "        decimalLongitude = area_longitude,\n",
    "        decimalLatitude = area_latitude,\n",
    "        coordinateUncertaintyInMeters = area_uncertainty,\n",
    "        higherGeography = parent_area_name,\n",
    "        minimumDepthInMeters = depth,\n",
    "        maximumDepthInMeters = depth,\n",
    "        sampleSizeValue = size,\n",
    "        dna,\n",
    "        temperature\n",
    "    ) %>%\n",
    "    mutate(sampleSizeUnit = \"ml\")\n",
    "event"
   ]
  },
  {
   "cell_type": "markdown",
   "id": "86e18b77-5053-4638-9aae-aeb7e72cfd5a",
   "metadata": {},
   "source": [
    "<div class=\"alert alert-warning\">\n",
    "The code above uses several <code>dlyr</code> functions. <code>select()</code> selects and optionally renames a set of columns from the dataframe. <code>mutate()</code> creates a new column. <code>%>%</code> is the pipe operator which is used to string functions together.\n",
    "</div>"
   ]
  },
  {
   "cell_type": "markdown",
   "id": "691970eb-325f-4f79-8fd2-fff54cf871a4",
   "metadata": {},
   "source": [
    "### Occurrence fields\n",
    "\n",
    "Next is the ASV table. This table is in a wide format with ASVs as rows and samples as columns. We will convert this to a long format, with one row per occurrence and the number of sequence reads as `organismQuantity`. We will use the sample identifier as `eventID` and the combination of sample identifier and ASV number as the `occurrenceID`."
   ]
  },
  {
   "cell_type": "markdown",
   "id": "27ef7816-fd95-48d4-8780-e1cd19b56393",
   "metadata": {},
   "source": [
    "<div class=\"alert alert-warning\">\n",
    "To do from a wide to a long table, use the <code>gather()</code> function from the <code>tidyr</code> package. <code>paste0()</code> is used to combine character strings."
   ]
  },
  {
   "cell_type": "code",
   "execution_count": 6,
   "id": "ed9cb036-2cf0-422d-a983-4597cb51c06e",
   "metadata": {
    "vscode": {
     "languageId": "r"
    }
   },
   "outputs": [
    {
     "data": {
      "text/html": [
       "<table class=\"dataframe\">\n",
       "<caption>A data.frame: 13375 × 5</caption>\n",
       "<thead>\n",
       "\t<tr><th scope=col>asv</th><th scope=col>eventID</th><th scope=col>organismQuantity</th><th scope=col>occurrenceID</th><th scope=col>organismQuantityType</th></tr>\n",
       "\t<tr><th scope=col>&lt;chr&gt;</th><th scope=col>&lt;chr&gt;</th><th scope=col>&lt;int&gt;</th><th scope=col>&lt;chr&gt;</th><th scope=col>&lt;chr&gt;</th></tr>\n",
       "</thead>\n",
       "<tbody>\n",
       "\t<tr><td>asv.2</td><td>EE0493</td><td>   14</td><td>EE0493_asv.2</td><td>sequence reads</td></tr>\n",
       "\t<tr><td>asv.5</td><td>EE0493</td><td>40587</td><td>EE0493_asv.5</td><td>sequence reads</td></tr>\n",
       "\t<tr><td>asv.6</td><td>EE0493</td><td>    7</td><td>EE0493_asv.6</td><td>sequence reads</td></tr>\n",
       "\t<tr><td>asv.7</td><td>EE0493</td><td>29367</td><td>EE0493_asv.7</td><td>sequence reads</td></tr>\n",
       "\t<tr><td>asv.8</td><td>EE0493</td><td>72378</td><td>EE0493_asv.8</td><td>sequence reads</td></tr>\n",
       "\t<tr><td>⋮</td><td>⋮</td><td>⋮</td><td>⋮</td><td>⋮</td></tr>\n",
       "\t<tr><td>asv.16949</td><td>EE0495</td><td>1</td><td>EE0495_asv.16949</td><td>sequence reads</td></tr>\n",
       "\t<tr><td>asv.16958</td><td>EE0495</td><td>1</td><td>EE0495_asv.16958</td><td>sequence reads</td></tr>\n",
       "\t<tr><td>asv.16961</td><td>EE0495</td><td>1</td><td>EE0495_asv.16961</td><td>sequence reads</td></tr>\n",
       "\t<tr><td>asv.16962</td><td>EE0495</td><td>1</td><td>EE0495_asv.16962</td><td>sequence reads</td></tr>\n",
       "\t<tr><td>asv.16963</td><td>EE0495</td><td>2</td><td>EE0495_asv.16963</td><td>sequence reads</td></tr>\n",
       "</tbody>\n",
       "</table>\n"
      ],
      "text/latex": [
       "A data.frame: 13375 × 5\n",
       "\\begin{tabular}{lllll}\n",
       " asv & eventID & organismQuantity & occurrenceID & organismQuantityType\\\\\n",
       " <chr> & <chr> & <int> & <chr> & <chr>\\\\\n",
       "\\hline\n",
       "\t asv.2 & EE0493 &    14 & EE0493\\_asv.2 & sequence reads\\\\\n",
       "\t asv.5 & EE0493 & 40587 & EE0493\\_asv.5 & sequence reads\\\\\n",
       "\t asv.6 & EE0493 &     7 & EE0493\\_asv.6 & sequence reads\\\\\n",
       "\t asv.7 & EE0493 & 29367 & EE0493\\_asv.7 & sequence reads\\\\\n",
       "\t asv.8 & EE0493 & 72378 & EE0493\\_asv.8 & sequence reads\\\\\n",
       "\t ⋮ & ⋮ & ⋮ & ⋮ & ⋮\\\\\n",
       "\t asv.16949 & EE0495 & 1 & EE0495\\_asv.16949 & sequence reads\\\\\n",
       "\t asv.16958 & EE0495 & 1 & EE0495\\_asv.16958 & sequence reads\\\\\n",
       "\t asv.16961 & EE0495 & 1 & EE0495\\_asv.16961 & sequence reads\\\\\n",
       "\t asv.16962 & EE0495 & 1 & EE0495\\_asv.16962 & sequence reads\\\\\n",
       "\t asv.16963 & EE0495 & 2 & EE0495\\_asv.16963 & sequence reads\\\\\n",
       "\\end{tabular}\n"
      ],
      "text/markdown": [
       "\n",
       "A data.frame: 13375 × 5\n",
       "\n",
       "| asv &lt;chr&gt; | eventID &lt;chr&gt; | organismQuantity &lt;int&gt; | occurrenceID &lt;chr&gt; | organismQuantityType &lt;chr&gt; |\n",
       "|---|---|---|---|---|\n",
       "| asv.2 | EE0493 |    14 | EE0493_asv.2 | sequence reads |\n",
       "| asv.5 | EE0493 | 40587 | EE0493_asv.5 | sequence reads |\n",
       "| asv.6 | EE0493 |     7 | EE0493_asv.6 | sequence reads |\n",
       "| asv.7 | EE0493 | 29367 | EE0493_asv.7 | sequence reads |\n",
       "| asv.8 | EE0493 | 72378 | EE0493_asv.8 | sequence reads |\n",
       "| ⋮ | ⋮ | ⋮ | ⋮ | ⋮ |\n",
       "| asv.16949 | EE0495 | 1 | EE0495_asv.16949 | sequence reads |\n",
       "| asv.16958 | EE0495 | 1 | EE0495_asv.16958 | sequence reads |\n",
       "| asv.16961 | EE0495 | 1 | EE0495_asv.16961 | sequence reads |\n",
       "| asv.16962 | EE0495 | 1 | EE0495_asv.16962 | sequence reads |\n",
       "| asv.16963 | EE0495 | 2 | EE0495_asv.16963 | sequence reads |\n",
       "\n"
      ],
      "text/plain": [
       "      asv       eventID organismQuantity occurrenceID     organismQuantityType\n",
       "1     asv.2     EE0493     14            EE0493_asv.2     sequence reads      \n",
       "2     asv.5     EE0493  40587            EE0493_asv.5     sequence reads      \n",
       "3     asv.6     EE0493      7            EE0493_asv.6     sequence reads      \n",
       "4     asv.7     EE0493  29367            EE0493_asv.7     sequence reads      \n",
       "5     asv.8     EE0493  72378            EE0493_asv.8     sequence reads      \n",
       "⋮     ⋮         ⋮       ⋮                ⋮                ⋮                   \n",
       "13371 asv.16949 EE0495  1                EE0495_asv.16949 sequence reads      \n",
       "13372 asv.16958 EE0495  1                EE0495_asv.16958 sequence reads      \n",
       "13373 asv.16961 EE0495  1                EE0495_asv.16961 sequence reads      \n",
       "13374 asv.16962 EE0495  1                EE0495_asv.16962 sequence reads      \n",
       "13375 asv.16963 EE0495  2                EE0495_asv.16963 sequence reads      "
      ]
     },
     "metadata": {},
     "output_type": "display_data"
    }
   ],
   "source": [
    "library(tidyr)\n",
    "\n",
    "occurrence <- seqtab %>%\n",
    "    gather(eventID, organismQuantity, 2:3) %>%\n",
    "    filter(organismQuantity > 0) %>%\n",
    "    mutate(\n",
    "        occurrenceID = paste0(eventID, \"_\", asv),\n",
    "        organismQuantityType = \"sequence reads\"\n",
    "    )\n",
    "occurrence"
   ]
  },
  {
   "cell_type": "markdown",
   "id": "d359d26e-35da-4703-bcd4-34618e1911fb",
   "metadata": {},
   "source": [
    "We can now add the taxonomic names to our occurrence table."
   ]
  },
  {
   "cell_type": "code",
   "execution_count": 7,
   "id": "3ff5c51c-2e9b-44ee-bfa8-96e18ff0431d",
   "metadata": {
    "vscode": {
     "languageId": "r"
    }
   },
   "outputs": [],
   "source": [
    "taxonomy <- taxonomy %>%\n",
    "    select(asv, verbatimIdentification = taxonomy)"
   ]
  },
  {
   "cell_type": "code",
   "execution_count": null,
   "id": "a24c7126-ed87-4896-83a1-a89a2bcdd73b",
   "metadata": {
    "vscode": {
     "languageId": "r"
    }
   },
   "outputs": [],
   "source": [
    "occurrence <- occurrence %>%\n",
    "    left_join(taxonomy, by = \"asv\")\n",
    "occurrence"
   ]
  },
  {
   "cell_type": "markdown",
   "id": "026dbc1e-9776-47f8-9735-c3ce239e9fbc",
   "metadata": {},
   "source": [
    "<div class=\"alert alert-warning\">\n",
    "<code>left_join()</code> joins two dataframes by matching columns. The <code>by</code> argument specifies the columns to match on.\n",
    "</div>"
   ]
  },
  {
   "cell_type": "markdown",
   "id": "fbda44cd",
   "metadata": {},
   "source": [
    "### Joining event and occurrence fields"
   ]
  },
  {
   "cell_type": "code",
   "execution_count": null,
   "id": "112ad03e-80f5-431e-bdb4-604668f7c37a",
   "metadata": {
    "vscode": {
     "languageId": "r"
    }
   },
   "outputs": [],
   "source": [
    "occurrence <- event %>%\n",
    "    left_join(occurrence, by = \"eventID\")\n",
    "occurrence"
   ]
  },
  {
   "cell_type": "markdown",
   "id": "0769c744-6d74-4ca9-954a-1948a1bf9688",
   "metadata": {},
   "source": [
    "## Adding metadata\n",
    "\n",
    "Populate `samplingProtocol` with a link the the eDNA Expeditions protocol."
   ]
  },
  {
   "cell_type": "code",
   "execution_count": null,
   "id": "b510f2ef-0629-4f15-ba12-f00afecc34b6",
   "metadata": {
    "vscode": {
     "languageId": "r"
    }
   },
   "outputs": [],
   "source": [
    "occurrence$samplingProtocol <- \"https://github.com/BeBOP-OBON/UNESCO_protocol_collection\""
   ]
  },
  {
   "cell_type": "markdown",
   "id": "9094e794-e8a7-471b-8b6c-baf7c06e4791",
   "metadata": {},
   "source": [
    "## Quality control\n",
    "\n",
    "### Taxon matching\n",
    "\n",
    "Let's first match the taxa with WoRMS. This can be done using the `obistools` package. Before matching with WoRMS we will remove underscores from the scientific names."
   ]
  },
  {
   "cell_type": "code",
   "execution_count": null,
   "id": "7c36c99f-04a1-480d-95d0-09527d254e4a",
   "metadata": {
    "vscode": {
     "languageId": "r"
    }
   },
   "outputs": [],
   "source": [
    "taxon_names <- stringr::str_replace(occurrence$verbatimIdentification, \"_\", \" \")"
   ]
  },
  {
   "cell_type": "markdown",
   "id": "073ae1fe-a869-4dd2-90d8-37423c578788",
   "metadata": {},
   "source": [
    "Now match the names, this can take a few minutes."
   ]
  },
  {
   "cell_type": "code",
   "execution_count": null,
   "id": "8f21e31c-9515-4646-b333-8c4c81da399f",
   "metadata": {
    "vscode": {
     "languageId": "r"
    }
   },
   "outputs": [],
   "source": [
    "matched <- obistools::match_taxa(taxon_names, ask = FALSE) %>%\n",
    "    select(scientificName, scientificNameID)\n",
    "\n",
    "matched"
   ]
  },
  {
   "cell_type": "code",
   "execution_count": null,
   "id": "27c38f2f-1373-4641-b716-0afdae87e113",
   "metadata": {
    "vscode": {
     "languageId": "r"
    }
   },
   "outputs": [],
   "source": [
    "occurrence <- bind_cols(occurrence, matched)\n",
    "occurrence"
   ]
  },
  {
   "cell_type": "code",
   "execution_count": null,
   "id": "2133f1b5-4a6a-47f8-a2a9-6973cb1bec08",
   "metadata": {
    "vscode": {
     "languageId": "r"
    }
   },
   "outputs": [],
   "source": [
    "non_matches <- occurrence %>%\n",
    "    filter(is.na(scientificNameID)) %>%\n",
    "    group_by(verbatimIdentification) %>%\n",
    "    summarize(n = n()) %>%\n",
    "    arrange(desc(n))\n",
    "\n",
    "write.table(non_matches, file = file.path(output_dir, \"nonmatches.txt\"), sep = \"\\t\", row.names = FALSE, na = \"\", quote = FALSE)\n",
    "\n",
    "non_matches"
   ]
  },
  {
   "cell_type": "markdown",
   "id": "a8d36c10-345e-4e0b-8cb6-ea1c71b5fdee",
   "metadata": {},
   "source": [
    "Normally we have to resolve these names one by one, but for this exercise we will just fix the most common errors. For example, records annotated as eukaryotes can be populated with scientificName `Incertae sedis` and scientificNameID `urn:lsid:marinespecies.org:taxname:12`."
   ]
  },
  {
   "cell_type": "code",
   "execution_count": null,
   "id": "9745ca20-4d92-431f-9336-6068f38b17fc",
   "metadata": {
    "vscode": {
     "languageId": "r"
    }
   },
   "outputs": [],
   "source": [
    "occurrence <- occurrence %>%\n",
    "    mutate(\n",
    "        scientificName = case_when(verbatimIdentification %in% c(\"Eukaryota\", \"undef_Eukaryota\", \"\") ~ \"Incertae sedis\", .default = scientificName),\n",
    "        scientificNameID = case_when(verbatimIdentification %in% c(\"Eukaryota\", \"undef_Eukaryota\", \"\") ~ \"urn:lsid:marinespecies.org:taxname:12\", .default = scientificNameID)\n",
    "    )"
   ]
  },
  {
   "cell_type": "code",
   "execution_count": null,
   "id": "1186640b-112f-4dbe-848c-4095b07c6c50",
   "metadata": {
    "vscode": {
     "languageId": "r"
    }
   },
   "outputs": [],
   "source": [
    "occurrence %>%\n",
    "    filter(is.na(scientificNameID)) %>%\n",
    "    group_by(verbatimIdentification) %>%\n",
    "    summarize(n = n()) %>%\n",
    "    arrange(desc(n))"
   ]
  },
  {
   "cell_type": "code",
   "execution_count": null,
   "id": "21aef73d-8e3d-4d8c-aa90-9692a9754d93",
   "metadata": {
    "vscode": {
     "languageId": "r"
    }
   },
   "outputs": [],
   "source": [
    "occurrence"
   ]
  },
  {
   "cell_type": "markdown",
   "id": "2b0dc521-5ec1-40fc-8afd-f68e5d63ce97",
   "metadata": {},
   "source": [
    "### Location\n",
    "\n",
    "Now let's check the coordinates by plotting the distinct coordinate pairs on a map."
   ]
  },
  {
   "cell_type": "code",
   "execution_count": null,
   "id": "d30a6bba-d92c-4101-b4f0-a7ed27e94a36",
   "metadata": {
    "vscode": {
     "languageId": "r"
    }
   },
   "outputs": [],
   "source": [
    "library(leaflet)\n",
    "\n",
    "stations <- occurrence %>%\n",
    "    distinct(locality, decimalLongitude, decimalLatitude)\n",
    "\n",
    "stations\n",
    "\n",
    "leaflet() %>%\n",
    "    addTiles() %>%\n",
    "    addMarkers(lng = stations$decimalLongitude, lat = stations$decimalLatitude, popup = stations$locality)"
   ]
  },
  {
   "cell_type": "markdown",
   "id": "34c39149-804b-42e9-9124-303ca0b4735a",
   "metadata": {},
   "source": [
    "There's clearly something wrong with the coordinates. Longitude looks fine, let's try flipping latitude."
   ]
  },
  {
   "cell_type": "code",
   "execution_count": null,
   "id": "f0077707-673d-4d00-a669-b3f83c5f0d0f",
   "metadata": {
    "vscode": {
     "languageId": "r"
    }
   },
   "outputs": [],
   "source": [
    "occurrence <- occurrence %>%\n",
    "    mutate(decimalLatitude = -decimalLatitude)\n",
    "\n",
    "stations <- occurrence %>%\n",
    "    distinct(locality, decimalLongitude, decimalLatitude)\n",
    "stations\n",
    "\n",
    "leaflet() %>%\n",
    "    addTiles() %>%\n",
    "    addMarkers(lng = stations$decimalLongitude, lat = stations$decimalLatitude, popup = stations$locality)"
   ]
  },
  {
   "cell_type": "markdown",
   "id": "5af671e7-a525-4531-9a74-2e9dedb3fb24",
   "metadata": {},
   "source": [
    "Now fix the occurrence table."
   ]
  },
  {
   "cell_type": "markdown",
   "id": "e4fe549d-1494-46c6-8bda-a079fa978aa7",
   "metadata": {},
   "source": [
    "### Time\n",
    "\n",
    "Now check the event dates."
   ]
  },
  {
   "cell_type": "code",
   "execution_count": null,
   "id": "b1deb7fc-8a76-4c80-a836-38fd6ee3baf7",
   "metadata": {
    "vscode": {
     "languageId": "r"
    }
   },
   "outputs": [],
   "source": [
    "obistools::check_eventdate(occurrence)"
   ]
  },
  {
   "cell_type": "markdown",
   "id": "1a0dce41-7727-49f4-b172-5fe848e567be",
   "metadata": {},
   "source": [
    "It looks like `eventDate` is in the wrong format. Use the `lubridate` package to parse the current date format and change it."
   ]
  },
  {
   "cell_type": "code",
   "execution_count": null,
   "id": "ef078590-bd1b-452d-8f4b-c7e9992c808b",
   "metadata": {
    "vscode": {
     "languageId": "r"
    }
   },
   "outputs": [],
   "source": [
    "library(lubridate)\n",
    "\n",
    "occurrence <- occurrence %>%\n",
    "    mutate(eventDate = format_ISO8601(parse_date_time(eventDate, \"%d/%m/%Y\"), precision = \"ymd\", usetz = FALSE))\n",
    "\n",
    "unique(occurrence$eventDate)"
   ]
  },
  {
   "cell_type": "code",
   "execution_count": null,
   "id": "57ea5ccd-4e26-4958-824e-208467c61d74",
   "metadata": {
    "vscode": {
     "languageId": "r"
    }
   },
   "outputs": [],
   "source": [
    "head(occurrence)"
   ]
  },
  {
   "cell_type": "markdown",
   "id": "5958f936-6363-4a5e-91df-21f5dc2a8100",
   "metadata": {},
   "source": [
    "### Missing fields\n",
    "\n",
    "Let's check if any required fields are missing."
   ]
  },
  {
   "cell_type": "code",
   "execution_count": null,
   "id": "ccba79d4-78a3-4870-ad8a-6ecaa5544296",
   "metadata": {
    "vscode": {
     "languageId": "r"
    }
   },
   "outputs": [],
   "source": [
    "obistools::check_fields(occurrence)"
   ]
  },
  {
   "cell_type": "code",
   "execution_count": null,
   "id": "1aec44a5-7557-400f-adda-4a7cda2c5274",
   "metadata": {
    "vscode": {
     "languageId": "r"
    }
   },
   "outputs": [],
   "source": [
    "occurrence <- occurrence %>%\n",
    "    mutate(\n",
    "        occurrenceStatus = \"present\",\n",
    "        basisOfRecord = \"MaterialSample\"\n",
    "    )"
   ]
  },
  {
   "cell_type": "markdown",
   "id": "bedc842d-40eb-422f-8c12-f0443dcdb8cf",
   "metadata": {},
   "source": [
    "## MeasurementOrFact\n",
    "\n",
    "We have several measurements that can be added to the MeasurementOrFact extension: sequence reads, sample volume, and DNA extract concentration."
   ]
  },
  {
   "cell_type": "code",
   "execution_count": null,
   "id": "9df35969-dfa9-4a51-a598-059c96053aea",
   "metadata": {
    "vscode": {
     "languageId": "r"
    }
   },
   "outputs": [],
   "source": [
    "mof_reads <- occurrence %>%\n",
    "    select(occurrenceID, measurementValue = organismQuantity) %>%\n",
    "    mutate(\n",
    "        measurementType = \"sequence reads\"\n",
    "    )\n",
    "\n",
    "mof_samplesize <- occurrence %>%\n",
    "    select(occurrenceID, measurementValue = sampleSizeValue, measurementUnit = sampleSizeUnit) %>%\n",
    "    mutate(\n",
    "        measurementType = \"sample size\",\n",
    "        measurementTypeID = \"http://vocab.nerc.ac.uk/collection/P01/current/VOLWBSMP/\",\n",
    "        measurementUnit = \"ml\",\n",
    "        measurementUnitID = \"http://vocab.nerc.ac.uk/collection/P06/current/VVML/\"\n",
    "    )\n",
    "\n",
    "mof_dna <- occurrence %>%\n",
    "    select(occurrenceID, measurementValue = dna) %>%\n",
    "    mutate(\n",
    "        measurementType = \"DNA concentration\",\n",
    "        measurementTypeID = \"http://vocab.nerc.ac.uk/collection/P01/current/A260DNAX/\",\n",
    "        measurementUnit = \"ng/μl\",\n",
    "        measurementUnitID = \"http://vocab.nerc.ac.uk/collection/P06/current/UNUL/\"\n",
    "    )\n",
    "\n",
    "mof_temperature <- occurrence %>%\n",
    "    select(occurrenceID, measurementValue = temperature) %>%\n",
    "    mutate(\n",
    "        measurementType = \"seawater temperature\",\n",
    "        measurementTypeID = \"http://vocab.nerc.ac.uk/collection/P01/current/TEMPPR01/\",\n",
    "        measurementUnit = \"degrees Celsius\",\n",
    "        measurementUnitID = \"http://vocab.nerc.ac.uk/collection/P06/current/UPAA/\"\n",
    "    )\n",
    "\n",
    "mof <- bind_rows(mof_reads, mof_samplesize, mof_dna)\n",
    "mof"
   ]
  },
  {
   "cell_type": "markdown",
   "id": "86a55cce-fafd-4093-b6fa-37e3af994dea",
   "metadata": {},
   "source": [
    "## DNADerivedData\n",
    "### Reading sequence data"
   ]
  },
  {
   "cell_type": "code",
   "execution_count": null,
   "id": "6183c3c5-a648-4863-b6ac-fe329f105811",
   "metadata": {
    "vscode": {
     "languageId": "r"
    }
   },
   "outputs": [],
   "source": [
    "library(Biostrings)\n",
    "\n",
    "fasta_file <- readDNAStringSet(\"../dataset/sequences.fasta\")\n",
    "fasta <- data.frame(asv = names(fasta_file), DNA_sequence = paste(fasta_file))\n",
    "fasta"
   ]
  },
  {
   "cell_type": "code",
   "execution_count": null,
   "id": "976ec7d6-d7b4-4102-9f6d-eabeffeca616",
   "metadata": {
    "vscode": {
     "languageId": "r"
    }
   },
   "outputs": [],
   "source": [
    "dna <- occurrence %>%\n",
    "    select(occurrenceID, asv, concentration = dna) %>%\n",
    "    left_join(fasta, by = \"asv\")\n",
    "\n",
    "dna"
   ]
  },
  {
   "cell_type": "markdown",
   "id": "9348ae11-0aaf-4082-b807-f0af46c3b9b4",
   "metadata": {},
   "source": [
    "### Adding metadata\n",
    "\n",
    "We have a file with some sequencing metadata, print the file contents and add the corresponding fields to the DNADerivedData table."
   ]
  },
  {
   "cell_type": "code",
   "execution_count": null,
   "id": "d255e1d1-6f0f-4aef-b697-258dec957558",
   "metadata": {
    "vscode": {
     "languageId": "r"
    }
   },
   "outputs": [],
   "source": [
    "cat(paste0(readLines(\"../dataset/metadata.txt\"), collapse = \"\\n\"))"
   ]
  },
  {
   "cell_type": "code",
   "execution_count": null,
   "id": "9125d6b3-2116-45a6-a135-9ec503aa9439",
   "metadata": {
    "vscode": {
     "languageId": "r"
    }
   },
   "outputs": [],
   "source": [
    "dna <- dna %>%\n",
    "    mutate(\n",
    "        concentrationUnit = \"ng/μl\",\n",
    "        lib_layout = \"paired\",\n",
    "        target_gene = \"COI\",\n",
    "        pcr_primers = \"FWD:GGWACWGGWTGAACWGTWTAYCCYCC;REV:TANACYTCNGGRTGNCCRAARAAYCA\",\n",
    "        seq_meth = \"Illumina NovaSeq6000\",\n",
    "        ref_db = \"https://github.com/iobis/edna-reference-databases\",\n",
    "        pcr_primer_forward = \"GGWACWGGWTGAACWGTWTAYCCYCC\",\n",
    "        pcr_primer_reverse = \"TANACYTCNGGRTGNCCRAARAAYCA\",\n",
    "        pcr_primer_name_forward = \"mlCOIintF\",\n",
    "        pcr_primer_name_reverse = \"dgHCO2198\",\n",
    "        pcr_primer_reference = \"doi:10.1186/1742-9994-10-34\"\n",
    "    ) %>%\n",
    "    select(-asv)\n",
    "\n",
    "dna"
   ]
  },
  {
   "cell_type": "markdown",
   "id": "f622d7d0-6144-4fe9-9679-e9ac4d7fa1ac",
   "metadata": {},
   "source": [
    "## Output\n",
    "\n",
    "Write text files and compress."
   ]
  },
  {
   "cell_type": "code",
   "execution_count": null,
   "id": "3dea8d0a-c319-42b9-8024-dcf9c29dfbab",
   "metadata": {
    "vscode": {
     "languageId": "r"
    }
   },
   "outputs": [],
   "source": [
    "occurrence <- occurrence %>%\n",
    "    select(-asv, -dna, -temperature)\n",
    "\n",
    "write.table(occurrence, file = file.path(output_dir, \"occurrence.txt\"), sep = \"\\t\", row.names = FALSE, na = \"\", quote = FALSE)\n",
    "write.table(mof, file = file.path(output_dir, \"measurementorfact.txt\"), sep = \"\\t\", row.names = FALSE, na = \"\", quote = FALSE)\n",
    "write.table(dna, file = file.path(output_dir, \"dnaderiveddata.txt\"), sep = \"\\t\", row.names = FALSE, na = \"\", quote = FALSE)"
   ]
  },
  {
   "cell_type": "code",
   "execution_count": null,
   "id": "09620626-59f5-40de-9ce0-3c678575c253",
   "metadata": {
    "vscode": {
     "languageId": "r"
    }
   },
   "outputs": [],
   "source": [
    "library(dwcawriter)\n",
    "\n",
    "archive <- list(\n",
    "    eml = '<eml:eml packageId=\"https://obis.org/dummydataset/v1.0\" scope=\"system\" system=\"http://gbif.org\" xml:lang=\"en\" xmlns:dc=\"http://purl.org/dc/terms/\" xmlns:eml=\"eml://ecoinformatics.org/eml-2.1.1\" xmlns:xsi=\"http://www.w3.org/2001/XMLSchema-instance\" xsi:schemaLocation=\"eml://ecoinformatics.org/eml-2.1.1 http://rs.gbif.org/schema/eml-gbif-profile/1.2/eml.xsd\">\n",
    "        <dataset>\n",
    "        <title xml:lang=\"en\">Dummy Dataset</title>\n",
    "        </dataset>\n",
    "    </eml:eml>',\n",
    "    core = list(\n",
    "        name = \"occurrence\",\n",
    "        type = \"https://rs.gbif.org/core/dwc_occurrence_2022-02-02.xml\",\n",
    "        index = which(names(occurrence) == \"occurrenceID\"),\n",
    "        data = occurrence\n",
    "    ),\n",
    "    extensions = list(\n",
    "        list(\n",
    "            name = \"measurementorfact\",\n",
    "            type = \"https://rs.gbif.org/extension/obis/extended_measurement_or_fact_2023-08-28.xml\",\n",
    "            index = which(names(mof) == \"occurrenceID\"),\n",
    "            data = mof\n",
    "        ),\n",
    "        list(\n",
    "            name = \"dnaderiveddata\",\n",
    "            type = \"https://rs.gbif.org/extension/gbif/1.0/dna_derived_data_2022-02-23.xml\",\n",
    "            index = which(names(dna) == \"occurrenceID\"),\n",
    "            data = dna\n",
    "        )\n",
    "    )\n",
    ")\n",
    "\n",
    "write_dwca(archive, file.path(output_dir, \"archive.zip\"))"
   ]
  }
 ],
 "metadata": {
  "kernelspec": {
   "display_name": "R",
   "language": "R",
   "name": "ir"
  },
  "language_info": {
   "codemirror_mode": "r",
   "file_extension": ".r",
   "mimetype": "text/x-r-source",
   "name": "R",
   "pygments_lexer": "r",
   "version": "4.1.2"
  }
 },
 "nbformat": 4,
 "nbformat_minor": 5
}
