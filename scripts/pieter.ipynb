{
 "cells": [
  {
   "cell_type": "markdown",
   "id": "e5470f8f-a2bd-4f7d-9147-a22e1105a3cc",
   "metadata": {},
   "source": [
    "# Processing an eDNA dataset to Darwin Core"
   ]
  },
  {
   "cell_type": "markdown",
   "id": "b6fe8b5b-21f1-4bb2-9ff0-8d31fa515388",
   "metadata": {},
   "source": [
    "## List all dataset files"
   ]
  },
  {
   "cell_type": "code",
   "execution_count": 1,
   "id": "de407417-e478-4003-aaaf-972f02a1c993",
   "metadata": {},
   "outputs": [
    {
     "data": {
      "text/html": [
       "<style>\n",
       ".list-inline {list-style: none; margin:0; padding: 0}\n",
       ".list-inline>li {display: inline-block}\n",
       ".list-inline>li:not(:last-child)::after {content: \"\\00b7\"; padding: 0 .5ex}\n",
       "</style>\n",
       "<ol class=list-inline><li>'../dataset/metadata.txt'</li><li>'../dataset/samples.xlsx'</li><li>'../dataset/seqtab.txt'</li><li>'../dataset/sequences.fasta'</li><li>'../dataset/taxonomy.txt'</li></ol>\n"
      ],
      "text/latex": [
       "\\begin{enumerate*}\n",
       "\\item '../dataset/metadata.txt'\n",
       "\\item '../dataset/samples.xlsx'\n",
       "\\item '../dataset/seqtab.txt'\n",
       "\\item '../dataset/sequences.fasta'\n",
       "\\item '../dataset/taxonomy.txt'\n",
       "\\end{enumerate*}\n"
      ],
      "text/markdown": [
       "1. '../dataset/metadata.txt'\n",
       "2. '../dataset/samples.xlsx'\n",
       "3. '../dataset/seqtab.txt'\n",
       "4. '../dataset/sequences.fasta'\n",
       "5. '../dataset/taxonomy.txt'\n",
       "\n",
       "\n"
      ],
      "text/plain": [
       "[1] \"../dataset/metadata.txt\"    \"../dataset/samples.xlsx\"   \n",
       "[3] \"../dataset/seqtab.txt\"      \"../dataset/sequences.fasta\"\n",
       "[5] \"../dataset/taxonomy.txt\"   "
      ]
     },
     "metadata": {},
     "output_type": "display_data"
    }
   ],
   "source": [
    "list.files(\"../dataset\", full.names = \"TRUE\")"
   ]
  },
  {
   "cell_type": "markdown",
   "id": "fce83607-62f5-4d5f-a751-9a52eab894e3",
   "metadata": {},
   "source": [
    "## Read the ASV table\n",
    "\n",
    "`../dataset/seqtab.txt` contains the ASV table, so it has one row per ASV, and the number of reads in a sample in different columns."
   ]
  },
  {
   "cell_type": "code",
   "execution_count": 2,
   "id": "8792c874-40b0-42d0-95bd-18be2fa0c3b4",
   "metadata": {},
   "outputs": [
    {
     "name": "stderr",
     "output_type": "stream",
     "text": [
      "\n",
      "Attaching package: ‘dplyr’\n",
      "\n",
      "\n",
      "The following objects are masked from ‘package:stats’:\n",
      "\n",
      "    filter, lag\n",
      "\n",
      "\n",
      "The following objects are masked from ‘package:base’:\n",
      "\n",
      "    intersect, setdiff, setequal, union\n",
      "\n",
      "\n"
     ]
    },
    {
     "data": {
      "text/html": [
       "<table class=\"dataframe\">\n",
       "<caption>A data.frame: 6 × 3</caption>\n",
       "<thead>\n",
       "\t<tr><th></th><th scope=col>asv</th><th scope=col>EE0493</th><th scope=col>EE0495</th></tr>\n",
       "\t<tr><th></th><th scope=col>&lt;chr&gt;</th><th scope=col>&lt;int&gt;</th><th scope=col>&lt;int&gt;</th></tr>\n",
       "</thead>\n",
       "<tbody>\n",
       "\t<tr><th scope=row>1</th><td>asv.1</td><td>    0</td><td>   0</td></tr>\n",
       "\t<tr><th scope=row>2</th><td>asv.2</td><td>   14</td><td>2447</td></tr>\n",
       "\t<tr><th scope=row>3</th><td>asv.3</td><td>    0</td><td>   0</td></tr>\n",
       "\t<tr><th scope=row>4</th><td>asv.4</td><td>    0</td><td>   0</td></tr>\n",
       "\t<tr><th scope=row>5</th><td>asv.5</td><td>40587</td><td>1857</td></tr>\n",
       "\t<tr><th scope=row>6</th><td>asv.6</td><td>    7</td><td>  10</td></tr>\n",
       "</tbody>\n",
       "</table>\n"
      ],
      "text/latex": [
       "A data.frame: 6 × 3\n",
       "\\begin{tabular}{r|lll}\n",
       "  & asv & EE0493 & EE0495\\\\\n",
       "  & <chr> & <int> & <int>\\\\\n",
       "\\hline\n",
       "\t1 & asv.1 &     0 &    0\\\\\n",
       "\t2 & asv.2 &    14 & 2447\\\\\n",
       "\t3 & asv.3 &     0 &    0\\\\\n",
       "\t4 & asv.4 &     0 &    0\\\\\n",
       "\t5 & asv.5 & 40587 & 1857\\\\\n",
       "\t6 & asv.6 &     7 &   10\\\\\n",
       "\\end{tabular}\n"
      ],
      "text/markdown": [
       "\n",
       "A data.frame: 6 × 3\n",
       "\n",
       "| <!--/--> | asv &lt;chr&gt; | EE0493 &lt;int&gt; | EE0495 &lt;int&gt; |\n",
       "|---|---|---|---|\n",
       "| 1 | asv.1 |     0 |    0 |\n",
       "| 2 | asv.2 |    14 | 2447 |\n",
       "| 3 | asv.3 |     0 |    0 |\n",
       "| 4 | asv.4 |     0 |    0 |\n",
       "| 5 | asv.5 | 40587 | 1857 |\n",
       "| 6 | asv.6 |     7 |   10 |\n",
       "\n"
      ],
      "text/plain": [
       "  asv   EE0493 EE0495\n",
       "1 asv.1     0     0  \n",
       "2 asv.2    14  2447  \n",
       "3 asv.3     0     0  \n",
       "4 asv.4     0     0  \n",
       "5 asv.5 40587  1857  \n",
       "6 asv.6     7    10  "
      ]
     },
     "metadata": {},
     "output_type": "display_data"
    }
   ],
   "source": [
    "library(dplyr)\n",
    "\n",
    "seqtab <- read.table(\"../dataset/seqtab.txt\", sep = \"\\t\", header = TRUE)\n",
    "head(seqtab)"
   ]
  },
  {
   "cell_type": "markdown",
   "id": "7eb6f801-bd0e-48b0-bcf9-8f91b4d1cfba",
   "metadata": {},
   "source": [
    "## Read the taxonomy file"
   ]
  },
  {
   "cell_type": "markdown",
   "id": "74d54e63-082d-4565-8324-953963480610",
   "metadata": {},
   "source": [
    "`../dataset/taxonomy.txt` contains a taxon name for each ASV."
   ]
  },
  {
   "cell_type": "code",
   "execution_count": 3,
   "id": "8e03544a-a131-4cf2-a7c4-052374e37b6b",
   "metadata": {},
   "outputs": [
    {
     "data": {
      "text/html": [
       "<table class=\"dataframe\">\n",
       "<caption>A data.frame: 6 × 2</caption>\n",
       "<thead>\n",
       "\t<tr><th></th><th scope=col>asv</th><th scope=col>taxonomy</th></tr>\n",
       "\t<tr><th></th><th scope=col>&lt;chr&gt;</th><th scope=col>&lt;chr&gt;</th></tr>\n",
       "</thead>\n",
       "<tbody>\n",
       "\t<tr><th scope=row>1</th><td>asv.1</td><td>Eukaryota             </td></tr>\n",
       "\t<tr><th scope=row>2</th><td>asv.2</td><td>Clausocalanus_furcatus</td></tr>\n",
       "\t<tr><th scope=row>3</th><td>asv.3</td><td>Eurotatoria           </td></tr>\n",
       "\t<tr><th scope=row>4</th><td>asv.4</td><td>Arthropoda            </td></tr>\n",
       "\t<tr><th scope=row>5</th><td>asv.5</td><td>Eukaryota             </td></tr>\n",
       "\t<tr><th scope=row>6</th><td>asv.6</td><td>Farranula_gibbula     </td></tr>\n",
       "</tbody>\n",
       "</table>\n"
      ],
      "text/latex": [
       "A data.frame: 6 × 2\n",
       "\\begin{tabular}{r|ll}\n",
       "  & asv & taxonomy\\\\\n",
       "  & <chr> & <chr>\\\\\n",
       "\\hline\n",
       "\t1 & asv.1 & Eukaryota             \\\\\n",
       "\t2 & asv.2 & Clausocalanus\\_furcatus\\\\\n",
       "\t3 & asv.3 & Eurotatoria           \\\\\n",
       "\t4 & asv.4 & Arthropoda            \\\\\n",
       "\t5 & asv.5 & Eukaryota             \\\\\n",
       "\t6 & asv.6 & Farranula\\_gibbula     \\\\\n",
       "\\end{tabular}\n"
      ],
      "text/markdown": [
       "\n",
       "A data.frame: 6 × 2\n",
       "\n",
       "| <!--/--> | asv &lt;chr&gt; | taxonomy &lt;chr&gt; |\n",
       "|---|---|---|\n",
       "| 1 | asv.1 | Eukaryota              |\n",
       "| 2 | asv.2 | Clausocalanus_furcatus |\n",
       "| 3 | asv.3 | Eurotatoria            |\n",
       "| 4 | asv.4 | Arthropoda             |\n",
       "| 5 | asv.5 | Eukaryota              |\n",
       "| 6 | asv.6 | Farranula_gibbula      |\n",
       "\n"
      ],
      "text/plain": [
       "  asv   taxonomy              \n",
       "1 asv.1 Eukaryota             \n",
       "2 asv.2 Clausocalanus_furcatus\n",
       "3 asv.3 Eurotatoria           \n",
       "4 asv.4 Arthropoda            \n",
       "5 asv.5 Eukaryota             \n",
       "6 asv.6 Farranula_gibbula     "
      ]
     },
     "metadata": {},
     "output_type": "display_data"
    }
   ],
   "source": [
    "taxonomy <- read.table(\"../dataset/taxonomy.txt\", sep = \"\\t\", header = TRUE)\n",
    "head(taxonomy)"
   ]
  },
  {
   "cell_type": "markdown",
   "id": "9176270f-3c59-4506-b8e3-a0cdb0dca1e9",
   "metadata": {},
   "source": [
    "These names originate from the reference database and will have to be matched to WoRMS later."
   ]
  },
  {
   "cell_type": "code",
   "execution_count": 4,
   "id": "5fc43c2d-6891-4e37-a83c-c68dcbccc9d9",
   "metadata": {},
   "outputs": [],
   "source": [
    "## Read the sample metadata\n",
    "\n",
    "We also have an Excel file with sample info."
   ]
  },
  {
   "cell_type": "code",
   "execution_count": 7,
   "id": "d8360180-9da8-4fae-a085-ca37d4a152db",
   "metadata": {},
   "outputs": [
    {
     "data": {
      "text/html": [
       "<table class=\"dataframe\">\n",
       "<caption>A tibble: 2 × 9</caption>\n",
       "<thead>\n",
       "\t<tr><th scope=col>name</th><th scope=col>size</th><th scope=col>event_begin</th><th scope=col>area_name</th><th scope=col>area_longitude</th><th scope=col>area_latitude</th><th scope=col>area_uncertainty</th><th scope=col>parent_area_name</th><th scope=col>dna</th></tr>\n",
       "\t<tr><th scope=col>&lt;chr&gt;</th><th scope=col>&lt;dbl&gt;</th><th scope=col>&lt;chr&gt;</th><th scope=col>&lt;chr&gt;</th><th scope=col>&lt;dbl&gt;</th><th scope=col>&lt;dbl&gt;</th><th scope=col>&lt;dbl&gt;</th><th scope=col>&lt;chr&gt;</th><th scope=col>&lt;dbl&gt;</th></tr>\n",
       "</thead>\n",
       "<tbody>\n",
       "\t<tr><td>EE0493</td><td>1450</td><td>24/04/2023</td><td>Ile esprit      </td><td>46.22536</td><td>9.425180</td><td>20</td><td>Aldabra Atoll</td><td> 7.23</td></tr>\n",
       "\t<tr><td>EE0495</td><td>1500</td><td>02/04/2023</td><td>Settlement beach</td><td>46.20605</td><td>9.400901</td><td>98</td><td>Aldabra Atoll</td><td>15.83</td></tr>\n",
       "</tbody>\n",
       "</table>\n"
      ],
      "text/latex": [
       "A tibble: 2 × 9\n",
       "\\begin{tabular}{lllllllll}\n",
       " name & size & event\\_begin & area\\_name & area\\_longitude & area\\_latitude & area\\_uncertainty & parent\\_area\\_name & dna\\\\\n",
       " <chr> & <dbl> & <chr> & <chr> & <dbl> & <dbl> & <dbl> & <chr> & <dbl>\\\\\n",
       "\\hline\n",
       "\t EE0493 & 1450 & 24/04/2023 & Ile esprit       & 46.22536 & 9.425180 & 20 & Aldabra Atoll &  7.23\\\\\n",
       "\t EE0495 & 1500 & 02/04/2023 & Settlement beach & 46.20605 & 9.400901 & 98 & Aldabra Atoll & 15.83\\\\\n",
       "\\end{tabular}\n"
      ],
      "text/markdown": [
       "\n",
       "A tibble: 2 × 9\n",
       "\n",
       "| name &lt;chr&gt; | size &lt;dbl&gt; | event_begin &lt;chr&gt; | area_name &lt;chr&gt; | area_longitude &lt;dbl&gt; | area_latitude &lt;dbl&gt; | area_uncertainty &lt;dbl&gt; | parent_area_name &lt;chr&gt; | dna &lt;dbl&gt; |\n",
       "|---|---|---|---|---|---|---|---|---|\n",
       "| EE0493 | 1450 | 24/04/2023 | Ile esprit       | 46.22536 | 9.425180 | 20 | Aldabra Atoll |  7.23 |\n",
       "| EE0495 | 1500 | 02/04/2023 | Settlement beach | 46.20605 | 9.400901 | 98 | Aldabra Atoll | 15.83 |\n",
       "\n"
      ],
      "text/plain": [
       "  name   size event_begin area_name        area_longitude area_latitude\n",
       "1 EE0493 1450 24/04/2023  Ile esprit       46.22536       9.425180     \n",
       "2 EE0495 1500 02/04/2023  Settlement beach 46.20605       9.400901     \n",
       "  area_uncertainty parent_area_name dna  \n",
       "1 20               Aldabra Atoll     7.23\n",
       "2 98               Aldabra Atoll    15.83"
      ]
     },
     "metadata": {},
     "output_type": "display_data"
    }
   ],
   "source": [
    "samples <- readxl::read_excel(\"../dataset/samples.xlsx\")\n",
    "samples"
   ]
  },
  {
   "cell_type": "code",
   "execution_count": null,
   "id": "ee57dc69-d8d7-4e2d-b666-a8608bb5c1a8",
   "metadata": {},
   "outputs": [],
   "source": []
  }
 ],
 "metadata": {
  "kernelspec": {
   "display_name": "R",
   "language": "R",
   "name": "ir"
  },
  "language_info": {
   "codemirror_mode": "r",
   "file_extension": ".r",
   "mimetype": "text/x-r-source",
   "name": "R",
   "pygments_lexer": "r",
   "version": "4.1.2"
  }
 },
 "nbformat": 4,
 "nbformat_minor": 5
}
